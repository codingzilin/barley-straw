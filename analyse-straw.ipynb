{
 "cells": [
  {
   "cell_type": "markdown",
   "id": "a9a70d6e",
   "metadata": {},
   "source": [
    "## Basic information\n",
    "#### frame of thickness is 0.084 mm\n"
   ]
  },
  {
   "cell_type": "markdown",
   "id": "88591c33",
   "metadata": {},
   "source": [
    "#### 读取TIFF图像堆栈"
   ]
  },
  {
   "cell_type": "code",
   "execution_count": 4,
   "id": "27739e67",
   "metadata": {},
   "outputs": [
    {
     "name": "stdout",
     "output_type": "stream",
     "text": [
      "共 2760 帧\n"
     ]
    }
   ],
   "source": [
    "from PIL import Image\n",
    "import numpy as np\n",
    "\n",
    "# 读取多帧 TIFF\n",
    "img = Image.open(\"/Users/harrysong/Desktop/agriculture/tiff/020150.tiff\")\n",
    "\n",
    "frames = []\n",
    "try:\n",
    "    while True:\n",
    "        frame = np.array(img.convert(\"L\"))  # 灰度图\n",
    "        frames.append(frame)\n",
    "        img.seek(img.tell() + 1)\n",
    "except EOFError:\n",
    "    pass  # 到达文件末尾\n",
    "\n",
    "print(f\"共 {len(frames)} 帧\")\n"
   ]
  },
  {
   "cell_type": "markdown",
   "id": "e9baeebc",
   "metadata": {},
   "source": [
    "#### 在每帧中检测圆形（麦秆）"
   ]
  },
  {
   "cell_type": "code",
   "execution_count": 5,
   "id": "25a833ad",
   "metadata": {},
   "outputs": [],
   "source": [
    "import cv2\n",
    "\n",
    "def detect_stalk_circle(frame):\n",
    "    blurred = cv2.medianBlur(frame, 5)\n",
    "    circles = cv2.HoughCircles(blurred, cv2.HOUGH_GRADIENT, dp=1.2,\n",
    "                               minDist=30, param1=50, param2=30,\n",
    "                               minRadius=10, maxRadius=100)\n",
    "    if circles is not None:\n",
    "        return True\n",
    "    return False\n"
   ]
  },
  {
   "cell_type": "markdown",
   "id": "77419e2b",
   "metadata": {},
   "source": [
    "#### 找出麦秆开始和结束的帧"
   ]
  },
  {
   "cell_type": "code",
   "execution_count": 6,
   "id": "9fc30b9f",
   "metadata": {},
   "outputs": [
    {
     "name": "stdout",
     "output_type": "stream",
     "text": [
      "麦秆从第 766 帧到第 2573 帧\n"
     ]
    }
   ],
   "source": [
    "start_frame = None\n",
    "end_frame = None\n",
    "\n",
    "for i, frame in enumerate(frames):\n",
    "    if detect_stalk_circle(frame):\n",
    "        if start_frame is None:\n",
    "            start_frame = i\n",
    "        end_frame = i  # 更新最后检测到的帧\n",
    "\n",
    "if start_frame is not None and end_frame is not None:\n",
    "    print(f\"麦秆从第 {start_frame} 帧到第 {end_frame} 帧\")\n"
   ]
  }
 ],
 "metadata": {
  "kernelspec": {
   "display_name": "Python 3",
   "language": "python",
   "name": "python3"
  },
  "language_info": {
   "codemirror_mode": {
    "name": "ipython",
    "version": 3
   },
   "file_extension": ".py",
   "mimetype": "text/x-python",
   "name": "python",
   "nbconvert_exporter": "python",
   "pygments_lexer": "ipython3",
   "version": "3.11.2"
  }
 },
 "nbformat": 4,
 "nbformat_minor": 5
}
