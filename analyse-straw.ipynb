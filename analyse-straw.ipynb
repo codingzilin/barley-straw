{
 "cells": [
  {
   "cell_type": "markdown",
   "id": "a9a70d6e",
   "metadata": {},
   "source": [
    "## Basic information\n",
    "#### frame of thickness is 0.084 mm\n"
   ]
  },
  {
   "cell_type": "code",
   "execution_count": 1,
   "id": "27739e67",
   "metadata": {},
   "outputs": [
    {
     "name": "stdout",
     "output_type": "stream",
     "text": [
      "共 2760 帧\n"
     ]
    }
   ],
   "source": [
    "from PIL import Image\n",
    "import numpy as np\n",
    "\n",
    "# 读取多帧 TIFF\n",
    "img = Image.open(\"/Users/harrysong/Desktop/agriculture/tiff/020150.tiff\")\n",
    "\n",
    "frames = []\n",
    "try:\n",
    "    while True:\n",
    "        frame = np.array(img.convert(\"L\"))  # 灰度图\n",
    "        frames.append(frame)\n",
    "        img.seek(img.tell() + 1)\n",
    "except EOFError:\n",
    "    pass  # 到达文件末尾\n",
    "\n",
    "print(f\"共 {len(frames)} 帧\")\n"
   ]
  }
 ],
 "metadata": {
  "kernelspec": {
   "display_name": "Python 3",
   "language": "python",
   "name": "python3"
  },
  "language_info": {
   "codemirror_mode": {
    "name": "ipython",
    "version": 3
   },
   "file_extension": ".py",
   "mimetype": "text/x-python",
   "name": "python",
   "nbconvert_exporter": "python",
   "pygments_lexer": "ipython3",
   "version": "3.11.2"
  }
 },
 "nbformat": 4,
 "nbformat_minor": 5
}
